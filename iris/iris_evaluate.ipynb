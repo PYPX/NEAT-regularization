{
 "cells": [
  {
   "cell_type": "code",
   "execution_count": 7,
   "metadata": {},
   "outputs": [
    {
     "name": "stdout",
     "output_type": "stream",
     "text": [
      "80\n"
     ]
    }
   ],
   "source": [
    "import pickle\n",
    "import matplotlib.pyplot as plt\n",
    "\n",
    "with open(\"result_pickle\", 'rb') as f:\n",
    "    result = pickle.load(f)\n",
    "\n",
    "print(len(result))"
   ]
  },
  {
   "cell_type": "code",
   "execution_count": 8,
   "metadata": {},
   "outputs": [
    {
     "name": "stdout",
     "output_type": "stream",
     "text": [
      "[0.9666666666666667, 0.9666666666666667, 0.9333333333333333, 1.0, 0.9666666666666667]\n",
      "0.9666666666666666\n"
     ]
    },
    {
     "data": {
      "image/png": "[encoded data removed]",
      "text/plain": [
       "<Figure size 576x288 with 1 Axes>"
      ]
     },
     "metadata": {
      "needs_background": "light"
     },
     "output_type": "display_data"
    }
   ],
   "source": [
    "value = []\n",
    "for i in range(1, 6):\n",
    "    name = \"0.0_0.0_0.0_\" + str(i)\n",
    "    value.append(result[name][1][-1])\n",
    "print(value)\n",
    "print(sum(value)/5)\n",
    "\n",
    "\n",
    "import matplotlib.pyplot as plt\n",
    "name = \"0.0_0.0_0.0_1\"\n",
    "x = []\n",
    "y = []\n",
    "for i in range(300):\n",
    "    x.append(i)\n",
    "    y.append(result[name][1][i])\n",
    "    \n",
    "plt.figure(figsize=(8,4))\n",
    "plt.plot(x,y,\"b--\",linewidth=1)\n",
    "plt.xlabel(\"iterations\")\n",
    "plt.ylabel(\"accuracy\")\n",
    "plt.title(\"Line plot\")\n",
    "# plt.savefig(\"scale_original_sum.jpg\")\n",
    "plt.show()"
   ]
  },
  {
   "cell_type": "code",
   "execution_count": null,
   "metadata": {},
   "outputs": [],
   "source": []
  },
  {
   "cell_type": "code",
   "execution_count": 10,
   "metadata": {
    "scrolled": false
   },
   "outputs": [
    {
     "name": "stdout",
     "output_type": "stream",
     "text": [
      "0.0_0.0_0.05_5\n",
      "[0.9666666666666667, 0.9666666666666667, 0.9666666666666667, 0.9666666666666667, 0.9]\n",
      "0.9533333333333334\n",
      "************\n",
      "0.0_0.0_0.1_5\n",
      "[0.9666666666666667, 0.9666666666666667, 0.9666666666666667, 1.0, 0.9666666666666667]\n",
      "0.9733333333333333\n",
      "************\n",
      "0.0_0.0_0.15_5\n",
      "[0.9666666666666667, 0.9666666666666667, 0.9666666666666667, 0.9666666666666667, 0.9666666666666667]\n",
      "0.9666666666666666\n",
      "************\n",
      "0.0_0.0_0.2_5\n",
      "[1.0, 0.9666666666666667, 0.9666666666666667, 0.9666666666666667, 0.9666666666666667]\n",
      "0.9733333333333334\n",
      "************\n",
      "0.0_0.0_0.25_5\n",
      "[0.9666666666666667, 0.9666666666666667, 0.9333333333333333, 0.9666666666666667, 0.9333333333333333]\n",
      "0.9533333333333334\n",
      "************\n"
     ]
    }
   ],
   "source": [
    "value = []\n",
    "hyper = [0.05, 0.1, 0.15, 0.2, 0.25]\n",
    "for i in hyper:\n",
    "    value = []\n",
    "    for j in range(1, 6):\n",
    "        #name = str(i) + \"_0.0_0.0_\" + str(j)\n",
    "        #name = \"0.0_\" + str(i) + \"_0.0_\" + str(j)\n",
    "        name = \"0.0_0.0_\" + str(i) + \"_\" + str(j)\n",
    "        value.append(result[name][1][-1])\n",
    "        \n",
    "    print(name)\n",
    "    print(value)\n",
    "    print(sum(value) / 5)\n",
    "    print(\"************\")\n"
   ]
  },
  {
   "cell_type": "code",
   "execution_count": null,
   "metadata": {},
   "outputs": [],
   "source": []
  }
 ],
 "metadata": {
  "kernelspec": {
   "display_name": "Python 3",
   "language": "python",
   "name": "python3"
  },
  "language_info": {
   "codemirror_mode": {
    "name": "ipython",
    "version": 3
   },
   "file_extension": ".py",
   "mimetype": "text/x-python",
   "name": "python",
   "nbconvert_exporter": "python",
   "pygments_lexer": "ipython3",
   "version": "3.7.6"
  }
 },
 "nbformat": 4,
 "nbformat_minor": 2
}
