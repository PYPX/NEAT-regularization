{
 "cells": [
  {
   "cell_type": "code",
   "execution_count": 1,
   "metadata": {},
   "outputs": [],
   "source": [
    "import pickle\n",
    "\n",
    "result = {}\n",
    "with open(\"result_pickle\", 'rb') as f:\n",
    "    result = pickle.load(f)\n"
   ]
  },
  {
   "cell_type": "code",
   "execution_count": 2,
   "metadata": {},
   "outputs": [
    {
     "name": "stdout",
     "output_type": "stream",
     "text": [
      "0.9633333333333328\n"
     ]
    }
   ],
   "source": [
    "original = []\n",
    "for i in range(30):\n",
    "    name = \"0.0_0.0_0.0_\" + str(i)\n",
    "    #name = \"0.15_0.0_0.0_\" + str(i)\n",
    "    #name = \"0.0_0.2_0.0_\" + str(i)\n",
    "    #name = \"0.0_0.0_0.1_\" + str(i)\n",
    "    original.append(result[name][1][-1])\n",
    "\n",
    "print(sum(original)/30)"
   ]
  },
  {
   "cell_type": "code",
   "execution_count": 3,
   "metadata": {},
   "outputs": [
    {
     "data": {
      "image/png": "[encoded data removed]",
      "text/plain": [
       "<Figure size 576x288 with 1 Axes>"
      ]
     },
     "metadata": {
      "needs_background": "light"
     },
     "output_type": "display_data"
    }
   ],
   "source": [
    "import matplotlib.pyplot as plt\n",
    "name = \"0.0_0.0_0.0_9\"\n",
    "x = []\n",
    "y = []\n",
    "for i in range(300):\n",
    "    x.append(i)\n",
    "    y.append(result[name][1][i])\n",
    "    \n",
    "plt.figure(figsize=(8,4))\n",
    "plt.plot(x,y,\"b--\",linewidth=1)\n",
    "plt.xlabel(\"iterations\")\n",
    "plt.ylabel(\"accuracy\")\n",
    "plt.title(\"Line plot\")\n",
    "# plt.savefig(\"scale_original_sum.jpg\")\n",
    "plt.show()"
   ]
  },
  {
   "cell_type": "code",
   "execution_count": null,
   "metadata": {},
   "outputs": [],
   "source": []
  },
  {
   "cell_type": "code",
   "execution_count": 4,
   "metadata": {},
   "outputs": [
    {
     "name": "stdout",
     "output_type": "stream",
     "text": [
      "0.9633333333333328\n",
      "0.9588888888888882\n",
      "0.9622222222222215\n",
      "0.9588888888888882\n"
     ]
    }
   ],
   "source": [
    "ori = []\n",
    "for i in range(30):\n",
    "    name = \"0.0_0.0_0.0_\" + str(i)\n",
    "    ori.append(result[name][1][-1])\n",
    "print(sum(ori)/30)\n",
    "    \n",
    "conn = []\n",
    "for i in range(30):\n",
    "    name = \"0.05_0.0_0.0_\" + str(i)\n",
    "    conn.append(result[name][1][-1])\n",
    "print(sum(conn)/30)\n",
    "    \n",
    "deep = []\n",
    "for i in range(30):\n",
    "    name = \"0.0_0.15_0.0_\" + str(i)\n",
    "    deep.append(result[name][1][-1])\n",
    "print(sum(deep)/30)\n",
    "    \n",
    "cluster = []\n",
    "for i in range(30):\n",
    "    name = \"0.0_0.0_0.15_\" + str(i)\n",
    "    cluster.append(result[name][1][-1])\n",
    "print(sum(cluster)/30)"
   ]
  },
  {
   "cell_type": "code",
   "execution_count": 5,
   "metadata": {},
   "outputs": [
    {
     "name": "stdout",
     "output_type": "stream",
     "text": [
      "KruskalResult(statistic=0.13612551618172797, pvalue=0.7121635656983392)\n",
      "KruskalResult(statistic=0.11112552552548853, pvalue=0.7388663616769029)\n",
      "KruskalResult(statistic=1.966823460628768, pvalue=0.16078543775058007)\n"
     ]
    }
   ],
   "source": [
    "from scipy import stats\n",
    "print(stats.kruskal(ori, conn))\n",
    "print(stats.kruskal(ori, deep))\n",
    "print(stats.kruskal(ori, cluster))"
   ]
  },
  {
   "cell_type": "code",
   "execution_count": null,
   "metadata": {},
   "outputs": [],
   "source": []
  },
  {
   "cell_type": "code",
   "execution_count": 6,
   "metadata": {},
   "outputs": [],
   "source": [
    "# import matplotlib.pyplot as plt\n",
    "# name = \"0.2_0.0_0.0_15\"\n",
    "# x = []\n",
    "# y = []\n",
    "# for i in range(300):\n",
    "#     x.append(i)\n",
    "#     y.append(result[name][1][i])\n",
    "    \n",
    "# plt.figure(figsize=(8,4))\n",
    "# plt.plot(x,y,\"b--\",linewidth=1)\n",
    "# plt.xlabel(\"iterations\")\n",
    "# plt.ylabel(\"accuracy\")\n",
    "# plt.title(\"Line plot\")\n",
    "# # plt.savefig(\"scale_original_sum.jpg\")\n",
    "# plt.show()\n",
    "\n",
    "# # print(result[name][2])"
   ]
  },
  {
   "cell_type": "code",
   "execution_count": 7,
   "metadata": {},
   "outputs": [],
   "source": [
    "def take_connection(x):\n",
    "    x = result[name][2]\n",
    "    li = x.split(':')\n",
    "    li = li[4]\n",
    "    a = li.split('(')\n",
    "\n",
    "    i = 2\n",
    "    connections = []\n",
    "    while(i <= len(a)):\n",
    "        t = a[i].split(',')\n",
    "        node_in = int(t[0])\n",
    "        node_out = int(t[1].split(')')[0])\n",
    "        connections.append((node_in, node_out))\n",
    "        i += 2\n",
    "    \n",
    "    return connections\n",
    "\n",
    "def feature_selection(connections, n_input, n_output):\n",
    "    s_input = set()\n",
    "    for i in range(n_input):\n",
    "        s_input.add(-i -1)\n",
    "    s_output = set()\n",
    "    for i in range(n_output):\n",
    "        s_output.add(i)\n",
    "    \n",
    "    useful = s_output\n",
    "    last = -1\n",
    "    while(last != len(useful)):\n",
    "        last = len(useful)\n",
    "        for i in connections:\n",
    "            if(i[1] in useful):\n",
    "                useful.add(i[0])\n",
    "    \n",
    "    return list(useful & s_input)"
   ]
  },
  {
   "cell_type": "code",
   "execution_count": 9,
   "metadata": {},
   "outputs": [
    {
     "name": "stdout",
     "output_type": "stream",
     "text": [
      "[-4, -3, -1, -2]\n",
      "[-4, -2]\n",
      "[-3, -1, -2]\n",
      "[-4, -3, -1, -2]\n",
      "[-4, -3, -2]\n",
      "[-4, -3, -2]\n",
      "[-4, -3, -2]\n",
      "[-4, -3, -1, -2]\n",
      "[-4, -3, -2]\n",
      "[-4, -3, -1, -2]\n",
      "[-4, -3, -2]\n",
      "[-4, -3, -2]\n",
      "[-4, -3, -2]\n",
      "[-4, -3, -2]\n",
      "[-4, -2]\n",
      "[-4, -3, -2]\n",
      "[-3, -1]\n",
      "[-4, -3, -2]\n",
      "[-4, -3]\n",
      "[-4, -3, -2]\n",
      "[-4, -3, -1, -2]\n",
      "[-4, -3, -1, -2]\n",
      "[-4, -3, -2]\n",
      "[-4, -3, -2]\n",
      "[-4, -3, -1]\n",
      "[-4, -3, -1, -2]\n",
      "[-4, -3, -2]\n",
      "[-4, -2]\n",
      "[-4, -3, -1, -2]\n",
      "[-4, -3, -2]\n"
     ]
    }
   ],
   "source": [
    "for i in range(30):\n",
    "    name = \"0.05_0.0_0.0_\" + str(i)\n",
    "    con = take_connection(result[name][2])\n",
    "    new_feature = feature_selection(con, 4, 3)\n",
    "    print(new_feature)"
   ]
  },
  {
   "cell_type": "code",
   "execution_count": 22,
   "metadata": {
    "scrolled": true
   },
   "outputs": [
    {
     "name": "stdout",
     "output_type": "stream",
     "text": [
      "[-4, -3]\n"
     ]
    }
   ],
   "source": [
    "# !!!!!!!!!!!!!!!!!!!!!!!!! change number\n",
    "name = \"0.05_0.0_0.0_18\"\n",
    "con = take_connection(result[name][2])\n",
    "new_feature = feature_selection(con, 4, 3)\n",
    "print(new_feature)"
   ]
  },
  {
   "cell_type": "code",
   "execution_count": null,
   "metadata": {},
   "outputs": [],
   "source": []
  },
  {
   "cell_type": "code",
   "execution_count": null,
   "metadata": {
    "scrolled": true
   },
   "outputs": [],
   "source": []
  },
  {
   "cell_type": "code",
   "execution_count": null,
   "metadata": {},
   "outputs": [],
   "source": []
  },
  {
   "cell_type": "code",
   "execution_count": null,
   "metadata": {},
   "outputs": [],
   "source": []
  },
  {
   "cell_type": "code",
   "execution_count": null,
   "metadata": {},
   "outputs": [],
   "source": []
  },
  {
   "cell_type": "code",
   "execution_count": null,
   "metadata": {},
   "outputs": [],
   "source": []
  },
  {
   "cell_type": "code",
   "execution_count": null,
   "metadata": {},
   "outputs": [],
   "source": []
  },
  {
   "cell_type": "code",
   "execution_count": null,
   "metadata": {},
   "outputs": [],
   "source": []
  },
  {
   "cell_type": "code",
   "execution_count": null,
   "metadata": {},
   "outputs": [],
   "source": []
  },
  {
   "cell_type": "code",
   "execution_count": 23,
   "metadata": {},
   "outputs": [],
   "source": [
    "with open(\"train_feature_pickle\", 'rb') as f:\n",
    "    train_feature = pickle.load(f)\n",
    "with open(\"train_target_pickle\", 'rb') as f:\n",
    "    train_target = pickle.load(f)\n",
    "with open(\"test_feature_pickle\", 'rb') as f:\n",
    "    test_feature = pickle.load(f)\n",
    "with open(\"test_target_pickle\", 'rb') as f:\n",
    "    test_target = pickle.load(f)"
   ]
  },
  {
   "cell_type": "code",
   "execution_count": 24,
   "metadata": {},
   "outputs": [],
   "source": [
    "def max_index(li):\n",
    "    length = len(li)\n",
    "    index = 0\n",
    "    max_num = 0\n",
    "    for i in range(length-1):\n",
    "        if(li[i] > max_num):\n",
    "            index = i\n",
    "            max_num = li[i]\n",
    "    return index"
   ]
  },
  {
   "cell_type": "code",
   "execution_count": 25,
   "metadata": {},
   "outputs": [],
   "source": [
    "# multi-calssification\n",
    "def auto_evaluate(predict, target):\n",
    "    count = 0\n",
    "    for i,j in zip(predict, target):\n",
    "        if max_index(i) == max_index(j):\n",
    "            count += 1\n",
    "    \n",
    "    return count/len(target)\n",
    "\n",
    "\n",
    "# # binary classification\n",
    "# def auto_evaluate(predict, target):\n",
    "#     count = 0\n",
    "#     for i,j in zip(predict, target):\n",
    "#         if(i == j):\n",
    "#             count += 1\n",
    "    \n",
    "#     return count/len(target)"
   ]
  },
  {
   "cell_type": "code",
   "execution_count": 26,
   "metadata": {},
   "outputs": [],
   "source": [
    "# select feature\n",
    "new_train = []\n",
    "new_test = []\n",
    "for line in train_feature:\n",
    "    x = []\n",
    "    for i in new_feature:\n",
    "        x.append(line[-i -1])\n",
    "    new_train.append(x)\n",
    "\n",
    "for line in test_feature:\n",
    "    x = []\n",
    "    for i in new_feature:\n",
    "        x.append(line[-i -1])\n",
    "    new_test.append(x)\n"
   ]
  },
  {
   "cell_type": "code",
   "execution_count": 27,
   "metadata": {},
   "outputs": [
    {
     "name": "stdout",
     "output_type": "stream",
     "text": [
      "2\n"
     ]
    }
   ],
   "source": [
    "print(len(new_train[0]))"
   ]
  },
  {
   "cell_type": "code",
   "execution_count": 28,
   "metadata": {},
   "outputs": [],
   "source": [
    "import time\n",
    "import random\n",
    "from sklearn.neural_network import MLPClassifier"
   ]
  },
  {
   "cell_type": "code",
   "execution_count": 29,
   "metadata": {},
   "outputs": [
    {
     "name": "stdout",
     "output_type": "stream",
     "text": [
      "5.365009069442749\n"
     ]
    }
   ],
   "source": [
    "X = train_feature\n",
    "y = train_target\n",
    "result1 = []\n",
    "\n",
    "tic = time.time()\n",
    "for i in range(100):\n",
    "    clf = MLPClassifier(solver='lbfgs', alpha=1e-5,hidden_layer_sizes=(9, 9), random_state=i, max_iter=9999)\n",
    "    clf.fit(X, y)\n",
    "    pred = clf.predict(test_feature)\n",
    "    result1.append(auto_evaluate(pred, test_target))\n",
    "toc = time.time()\n",
    "print(toc - tic)"
   ]
  },
  {
   "cell_type": "code",
   "execution_count": 30,
   "metadata": {},
   "outputs": [
    {
     "name": "stdout",
     "output_type": "stream",
     "text": [
      "[0.9333333333333333, 1.0, 0.8, 1.0, 1.0, 1.0, 1.0, 0.6, 0.9666666666666667, 1.0, 0.9333333333333333, 1.0, 1.0, 1.0, 0.9, 1.0, 1.0, 1.0, 1.0, 1.0, 1.0, 1.0, 1.0, 1.0, 1.0, 1.0, 1.0, 1.0, 0.9333333333333333, 1.0, 0.9333333333333333, 1.0, 1.0, 1.0, 1.0, 1.0, 1.0, 1.0, 1.0, 0.9666666666666667, 1.0, 1.0, 1.0, 0.9666666666666667, 1.0, 1.0, 1.0, 1.0, 0.9333333333333333, 1.0, 1.0, 0.8666666666666667, 1.0, 1.0, 1.0, 0.9666666666666667, 1.0, 1.0, 1.0, 1.0, 1.0, 1.0, 1.0, 1.0, 0.5666666666666667, 0.6333333333333333, 0.5666666666666667, 1.0, 1.0, 1.0, 1.0, 1.0, 1.0, 1.0, 0.8333333333333334, 1.0, 1.0, 1.0, 0.9666666666666667, 1.0, 1.0, 1.0, 1.0, 0.9666666666666667, 0.9666666666666667, 1.0, 0.7666666666666667, 1.0, 1.0, 1.0, 1.0, 1.0, 0.6666666666666666, 1.0, 1.0, 1.0, 1.0, 1.0, 1.0, 1.0]\n",
      "0.9663333333333334\n"
     ]
    }
   ],
   "source": [
    "print(result1)\n",
    "print(sum(result1)/len(result1))"
   ]
  },
  {
   "cell_type": "code",
   "execution_count": null,
   "metadata": {},
   "outputs": [],
   "source": []
  },
  {
   "cell_type": "code",
   "execution_count": 31,
   "metadata": {},
   "outputs": [
    {
     "name": "stdout",
     "output_type": "stream",
     "text": [
      "4.9677369594573975\n"
     ]
    }
   ],
   "source": [
    "X = new_train\n",
    "y = train_target\n",
    "result2 = []\n",
    "\n",
    "tic = time.time()\n",
    "for i in range(100):\n",
    "    clf = MLPClassifier(solver='lbfgs', alpha=1e-5,hidden_layer_sizes=(9, 9), random_state=i, max_iter=9999)\n",
    "    clf.fit(X, y)\n",
    "    pred = clf.predict(new_test)\n",
    "    result2.append(auto_evaluate(pred, test_target))\n",
    "toc = time.time()\n",
    "print(toc - tic)"
   ]
  },
  {
   "cell_type": "code",
   "execution_count": 32,
   "metadata": {},
   "outputs": [
    {
     "name": "stdout",
     "output_type": "stream",
     "text": [
      "[1.0, 1.0, 1.0, 0.8666666666666667, 1.0, 0.8, 1.0, 0.9333333333333333, 1.0, 0.8, 1.0, 1.0, 1.0, 1.0, 1.0, 1.0, 1.0, 1.0, 1.0, 1.0, 1.0, 1.0, 1.0, 0.9666666666666667, 0.8666666666666667, 1.0, 1.0, 1.0, 1.0, 1.0, 1.0, 0.7666666666666667, 0.9333333333333333, 1.0, 1.0, 1.0, 1.0, 1.0, 1.0, 1.0, 1.0, 0.7666666666666667, 0.9333333333333333, 1.0, 1.0, 1.0, 1.0, 0.8, 1.0, 1.0, 1.0, 0.9666666666666667, 1.0, 1.0, 1.0, 1.0, 1.0, 1.0, 1.0, 1.0, 1.0, 1.0, 1.0, 1.0, 1.0, 0.5666666666666667, 1.0, 0.9666666666666667, 1.0, 1.0, 1.0, 1.0, 0.8333333333333334, 1.0, 1.0, 1.0, 1.0, 1.0, 1.0, 1.0, 1.0, 1.0, 0.9666666666666667, 1.0, 1.0, 0.8, 1.0, 1.0, 1.0, 0.6, 1.0, 0.9666666666666667, 1.0, 1.0, 1.0, 1.0, 1.0, 1.0, 1.0, 1.0]\n",
      "0.971\n"
     ]
    }
   ],
   "source": [
    "print(result2)\n",
    "print(sum(result2)/len(result2))"
   ]
  },
  {
   "cell_type": "code",
   "execution_count": null,
   "metadata": {},
   "outputs": [],
   "source": []
  },
  {
   "cell_type": "code",
   "execution_count": null,
   "metadata": {},
   "outputs": [],
   "source": []
  }
 ],
 "metadata": {
  "kernelspec": {
   "display_name": "Python 3",
   "language": "python",
   "name": "python3"
  },
  "language_info": {
   "codemirror_mode": {
    "name": "ipython",
    "version": 3
   },
   "file_extension": ".py",
   "mimetype": "text/x-python",
   "name": "python",
   "nbconvert_exporter": "python",
   "pygments_lexer": "ipython3",
   "version": "3.7.6"
  }
 },
 "nbformat": 4,
 "nbformat_minor": 4
}
